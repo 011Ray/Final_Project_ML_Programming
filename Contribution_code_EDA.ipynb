{
  "nbformat": 4,
  "nbformat_minor": 0,
  "metadata": {
    "colab": {
      "provenance": []
    },
    "kernelspec": {
      "name": "python3",
      "display_name": "Python 3"
    },
    "language_info": {
      "name": "python"
    }
  },
  "cells": [
    {
      "cell_type": "code",
      "source": [
        "import nltk\n",
        "import random\n",
        "from nltk.corpus import wordnet, stopwords\n",
        "from tqdm import tqdm\n",
        "import numpy as np\n",
        "import tensorflow as tf\n",
        "from tensorflow.keras.datasets import imdb\n",
        "from tensorflow.keras.preprocessing.sequence import pad_sequences\n",
        "from tensorflow.keras.models import Sequential\n",
        "from tensorflow.keras.layers import Embedding, Conv1D, GlobalMaxPooling1D, Dense\n",
        "import matplotlib.pyplot as plt\n",
        "\n",
        "# Download necessary NLTK data\n",
        "nltk.download('wordnet')\n",
        "nltk.download('omw-1.4')\n",
        "nltk.download('stopwords')\n",
        "\n",
        "# Initialize stop words\n",
        "stop_words = set(stopwords.words('english'))"
      ],
      "metadata": {
        "colab": {
          "base_uri": "https://localhost:8080/"
        },
        "id": "7jJ9VMcaY8O8",
        "outputId": "d7e57a3d-4d84-4453-f7b7-c10b92d4ab52"
      },
      "execution_count": 1,
      "outputs": [
        {
          "output_type": "stream",
          "name": "stderr",
          "text": [
            "[nltk_data] Downloading package wordnet to /root/nltk_data...\n",
            "[nltk_data] Downloading package omw-1.4 to /root/nltk_data...\n",
            "[nltk_data] Downloading package stopwords to /root/nltk_data...\n",
            "[nltk_data]   Unzipping corpora/stopwords.zip.\n"
          ]
        }
      ]
    },
    {
      "cell_type": "markdown",
      "source": [
        "# Define EDA Functions"
      ],
      "metadata": {
        "id": "GKzFLzCcZD4v"
      }
    },
    {
      "cell_type": "code",
      "source": [
        "def synonym_replacement(words, n):\n",
        "    new_words = words.copy()\n",
        "    random_word_list = list(set([word for word in words if word not in stop_words]))\n",
        "    random.shuffle(random_word_list)\n",
        "    num_replaced = 0\n",
        "    for random_word in random_word_list:\n",
        "        synonyms = get_synonyms(random_word)\n",
        "        if len(synonyms) >= 1:\n",
        "            synonym = random.choice(list(synonyms))\n",
        "            new_words = [synonym if word == random_word else word for word in new_words]\n",
        "            num_replaced += 1\n",
        "        if num_replaced >= n:\n",
        "            break\n",
        "    sentence = ' '.join(new_words)\n",
        "    return sentence\n",
        "\n",
        "def get_synonyms(word):\n",
        "    synonyms = set()\n",
        "    for syn in wordnet.synsets(word):\n",
        "        for l in syn.lemmas():\n",
        "            synonym = l.name().replace(\"_\", \" \").replace(\"-\", \" \").lower()\n",
        "            synonym = \"\".join([char for char in synonym if char in ' abcdefghijklmnopqrstuvwxyz'])\n",
        "            synonyms.add(synonym)\n",
        "    if word in synonyms:\n",
        "        synonyms.remove(word)\n",
        "    return list(synonyms)\n",
        "\n",
        "def random_insertion(words, n):\n",
        "    new_words = words.copy()\n",
        "    for _ in range(n):\n",
        "        add_word(new_words)\n",
        "    return ' '.join(new_words)\n",
        "\n",
        "def add_word(new_words):\n",
        "    synonyms = []\n",
        "    counter = 0\n",
        "    while len(synonyms) < 1:\n",
        "        random_word = new_words[random.randint(0, len(new_words)-1)]\n",
        "        synonyms = get_synonyms(random_word)\n",
        "        counter += 1\n",
        "        if counter >= 10:\n",
        "            return\n",
        "    random_synonym = random.choice(list(synonyms))\n",
        "    random_idx = random.randint(0, len(new_words)-1)\n",
        "    new_words.insert(random_idx, random_synonym)\n",
        "\n",
        "def random_swap(words, n):\n",
        "    new_words = words.copy()\n",
        "    for _ in range(n):\n",
        "        new_words = swap_word(new_words)\n",
        "    return ' '.join(new_words)\n",
        "\n",
        "def swap_word(new_words):\n",
        "    random_idx_1 = random.randint(0, len(new_words)-1)\n",
        "    random_idx_2 = random_idx_1\n",
        "    counter = 0\n",
        "    while random_idx_2 == random_idx_1:\n",
        "        random_idx_2 = random.randint(0, len(new_words)-1)\n",
        "        counter += 1\n",
        "        if counter > 3:\n",
        "            return new_words\n",
        "    new_words[random_idx_1], new_words[random_idx_2] = new_words[random_idx_2], new_words[random_idx_1]\n",
        "    return new_words\n",
        "\n",
        "def random_deletion(words, p):\n",
        "    if len(words) == 1:\n",
        "        return words\n",
        "    new_words = []\n",
        "    for word in words:\n",
        "        r = random.uniform(0, 1)\n",
        "        if r > p:\n",
        "            new_words.append(word)\n",
        "    if len(new_words) == 0:\n",
        "        rand_int = random.randint(0, len(words)-1)\n",
        "        return [words[rand_int]]\n",
        "    return ' '.join(new_words)\n",
        "\n",
        "def eda(sentence, alpha_sr=0.1, alpha_ri=0.1, alpha_rs=0.1, p_rd=0.1, num_aug=9):\n",
        "    sentence = sentence.lower()\n",
        "    words = sentence.split(' ')\n",
        "    words = [word for word in words if word != '']\n",
        "    num_words = len(words)\n",
        "\n",
        "    augmented_sentences = []\n",
        "    num_new_per_technique = int(num_aug/4)+1\n",
        "    n_sr = max(1, int(alpha_sr*num_words))\n",
        "    n_ri = max(1, int(alpha_ri*num_words))\n",
        "    n_rs = max(1, int(alpha_rs*num_words))\n",
        "\n",
        "    augmented_sentences.extend([synonym_replacement(words, n_sr) for _ in range(num_new_per_technique)])\n",
        "    augmented_sentences.extend([random_insertion(words, n_ri) for _ in range(num_new_per_technique)])\n",
        "    augmented_sentences.extend([random_swap(words, n_rs) for _ in range(num_new_per_technique)])\n",
        "    augmented_sentences.extend([random_deletion(words, p_rd) for _ in range(num_new_per_technique)])\n",
        "\n",
        "    augmented_sentences = [sentence for sentence in augmented_sentences if sentence != '']\n",
        "    random.shuffle(augmented_sentences)\n",
        "\n",
        "    if num_aug >= 1:\n",
        "        augmented_sentences = augmented_sentences[:num_aug]\n",
        "    else:\n",
        "        augmented_sentences = []\n",
        "\n",
        "    augmented_sentences.append(sentence)\n",
        "\n",
        "    return augmented_sentences\n"
      ],
      "metadata": {
        "id": "_lKELxqxZEiL"
      },
      "execution_count": 2,
      "outputs": []
    },
    {
      "cell_type": "markdown",
      "source": [
        "# Load and Preprocess the IMDB Dataset"
      ],
      "metadata": {
        "id": "hKGmgOppZNNI"
      }
    },
    {
      "cell_type": "code",
      "source": [
        "# Load IMDB dataset\n",
        "(x_train, y_train), (x_test, y_test) = imdb.load_data(num_words=20000)\n",
        "\n",
        "# Pad sequences to ensure uniform input size\n",
        "max_len = 200\n",
        "x_train = pad_sequences(x_train, maxlen=max_len)\n",
        "x_test = pad_sequences(x_test, maxlen=max_len)\n",
        "\n",
        "# Word index dictionary\n",
        "word_index = imdb.get_word_index()\n",
        "reverse_word_index = {value: key for key, value in word_index.items()}\n",
        "\n",
        "# Convert sequences back to text\n",
        "def decode_review(encoded_review):\n",
        "    return ' '.join([reverse_word_index.get(i - 3, '?') for i in encoded_review])\n",
        "\n",
        "decoded_reviews = [decode_review(sequence) for sequence in x_train]\n"
      ],
      "metadata": {
        "id": "p4-TB_vBZOGI",
        "colab": {
          "base_uri": "https://localhost:8080/"
        },
        "outputId": "801281f4-7a8e-4eb9-d2de-3e4d798c76e8"
      },
      "execution_count": 3,
      "outputs": [
        {
          "output_type": "stream",
          "name": "stdout",
          "text": [
            "Downloading data from https://storage.googleapis.com/tensorflow/tf-keras-datasets/imdb.npz\n",
            "\u001b[1m17464789/17464789\u001b[0m \u001b[32m━━━━━━━━━━━━━━━━━━━━\u001b[0m\u001b[37m\u001b[0m \u001b[1m0s\u001b[0m 0us/step\n",
            "Downloading data from https://storage.googleapis.com/tensorflow/tf-keras-datasets/imdb_word_index.json\n",
            "\u001b[1m1641221/1641221\u001b[0m \u001b[32m━━━━━━━━━━━━━━━━━━━━\u001b[0m\u001b[37m\u001b[0m \u001b[1m0s\u001b[0m 0us/step\n"
          ]
        }
      ]
    },
    {
      "cell_type": "markdown",
      "source": [
        "# Apply EDA to Augment the Data"
      ],
      "metadata": {
        "id": "KjaSADNtZUc9"
      }
    },
    {
      "cell_type": "code",
      "source": [
        "# Apply EDA and collect augmented reviews and their corresponding labels\n",
        "augmented_reviews = []\n",
        "augmented_labels = []\n",
        "\n",
        "for review, label in tqdm(zip(decoded_reviews, y_train), total=len(y_train)):\n",
        "    augmented = eda(review, num_aug=4)  # Generate 4 augmented reviews per original review\n",
        "    augmented_reviews.extend(augmented)\n",
        "    augmented_labels.extend([label] * len(augmented))  # Repeat the label for each augmented review\n",
        "\n",
        "# Re-encode Augmented Reviews\n",
        "def encode_review(review):\n",
        "    return [min(word_index.get(word, 2) + 3, 20000 - 1) for word in review.split()]\n",
        "\n",
        "encoded_augmented_reviews = [encode_review(review) for review in augmented_reviews]\n",
        "\n",
        "# Pad the Augmented Reviews\n",
        "padded_augmented_reviews = pad_sequences(encoded_augmented_reviews, maxlen=max_len)\n",
        "\n",
        "# Combine with Original Dataset\n",
        "x_train_augmented = np.concatenate((x_train, padded_augmented_reviews), axis=0)\n",
        "y_train_augmented = np.concatenate((y_train, np.array(augmented_labels)), axis=0)"
      ],
      "metadata": {
        "colab": {
          "base_uri": "https://localhost:8080/"
        },
        "id": "DiUGoiEFZWDI",
        "outputId": "c1c900fe-7641-4b49-b7a5-e845900d68c4"
      },
      "execution_count": 4,
      "outputs": [
        {
          "output_type": "stream",
          "name": "stderr",
          "text": [
            "100%|██████████| 25000/25000 [03:25<00:00, 121.39it/s]\n"
          ]
        }
      ]
    },
    {
      "cell_type": "markdown",
      "source": [
        "# Define and Train the Model"
      ],
      "metadata": {
        "id": "jHt4O271Z03i"
      }
    },
    {
      "cell_type": "code",
      "source": [
        "from tensorflow.keras.callbacks import EarlyStopping\n",
        "from tensorflow.keras.layers import Dropout\n",
        "from tensorflow.keras import regularizers\n",
        "\n",
        "# Define EarlyStopping callback\n",
        "early_stopping = EarlyStopping(monitor='val_loss', patience=2, restore_best_weights=True)\n",
        "\n",
        "# Define the model with stronger regularization and reduced complexity\n",
        "model = Sequential([\n",
        "    Embedding(input_dim=20000, output_dim=128, input_length=max_len),\n",
        "    Conv1D(filters=64, kernel_size=5, activation='relu'),\n",
        "    GlobalMaxPooling1D(),\n",
        "    Dropout(0.6),  # Increased dropout\n",
        "    Dense(units=10, activation='relu', kernel_regularizer=regularizers.l2(0.05)),  # Stronger L2 regularization\n",
        "    Dropout(0.6),  # Increased dropout\n",
        "    Dense(units=1, activation='sigmoid')\n",
        "])\n",
        "\n",
        "model.compile(optimizer='adam', loss='binary_crossentropy', metrics=['accuracy'])\n",
        "\n",
        "# Train the model with EarlyStopping\n",
        "history = model.fit(x_train_augmented, y_train_augmented, epochs=10, batch_size=32,\n",
        "                    validation_data=(x_test, y_test), callbacks=[early_stopping])\n"
      ],
      "metadata": {
        "colab": {
          "base_uri": "https://localhost:8080/"
        },
        "id": "4wWH_Di_Z1eR",
        "outputId": "be8ec8b4-174b-47ad-ee01-0bd19effe61d"
      },
      "execution_count": 5,
      "outputs": [
        {
          "output_type": "stream",
          "name": "stderr",
          "text": [
            "/usr/local/lib/python3.10/dist-packages/keras/src/layers/core/embedding.py:90: UserWarning: Argument `input_length` is deprecated. Just remove it.\n",
            "  warnings.warn(\n"
          ]
        },
        {
          "output_type": "stream",
          "name": "stdout",
          "text": [
            "Epoch 1/10\n",
            "\u001b[1m4688/4688\u001b[0m \u001b[32m━━━━━━━━━━━━━━━━━━━━\u001b[0m\u001b[37m\u001b[0m \u001b[1m336s\u001b[0m 71ms/step - accuracy: 0.7061 - loss: 0.6235 - val_accuracy: 0.8460 - val_loss: 0.3776\n",
            "Epoch 2/10\n",
            "\u001b[1m4688/4688\u001b[0m \u001b[32m━━━━━━━━━━━━━━━━━━━━\u001b[0m\u001b[37m\u001b[0m \u001b[1m334s\u001b[0m 71ms/step - accuracy: 0.9068 - loss: 0.2600 - val_accuracy: 0.8338 - val_loss: 0.4952\n",
            "Epoch 3/10\n",
            "\u001b[1m4688/4688\u001b[0m \u001b[32m━━━━━━━━━━━━━━━━━━━━\u001b[0m\u001b[37m\u001b[0m \u001b[1m391s\u001b[0m 73ms/step - accuracy: 0.9313 - loss: 0.1897 - val_accuracy: 0.8333 - val_loss: 0.6804\n"
          ]
        }
      ]
    },
    {
      "cell_type": "code",
      "source": [
        "# Evaluate the Model\n",
        "test_loss, test_acc = model.evaluate(x_test, y_test)\n",
        "print(f'Test Accuracy: {test_acc:.4f}')"
      ],
      "metadata": {
        "colab": {
          "base_uri": "https://localhost:8080/"
        },
        "id": "TBUbbIObmb47",
        "outputId": "be3c179d-379f-4616-e38f-9af4a1b6e291"
      },
      "execution_count": 6,
      "outputs": [
        {
          "output_type": "stream",
          "name": "stdout",
          "text": [
            "\u001b[1m782/782\u001b[0m \u001b[32m━━━━━━━━━━━━━━━━━━━━\u001b[0m\u001b[37m\u001b[0m \u001b[1m11s\u001b[0m 14ms/step - accuracy: 0.8483 - loss: 0.3750\n",
            "Test Accuracy: 0.8460\n"
          ]
        }
      ]
    },
    {
      "cell_type": "code",
      "source": [
        "# Plot Accuracy Curves\n",
        "plt.plot(history.history['accuracy'])\n",
        "plt.plot(history.history['val_accuracy'])\n",
        "plt.title('Model accuracy')\n",
        "plt.ylabel('Accuracy')\n",
        "plt.xlabel('Epoch')\n",
        "plt.legend(['Train', 'Test'], loc='upper left')\n",
        "plt.show()\n",
        "\n",
        "# Plot Loss Curves\n",
        "plt.plot(history.history['loss'])\n",
        "plt.plot(history.history['val_loss'])\n",
        "plt.title('Model loss')\n",
        "plt.ylabel('Loss')\n",
        "plt.xlabel('Epoch')\n",
        "plt.legend(['Train', 'Test'], loc='upper left')\n",
        "plt.show()"
      ],
      "metadata": {
        "colab": {
          "base_uri": "https://localhost:8080/",
          "height": 927
        },
        "id": "I5Um6vwmmiyH",
        "outputId": "234a2ca1-fbcf-4b53-bed3-58b5099155aa"
      },
      "execution_count": 7,
      "outputs": [
        {
          "output_type": "display_data",
          "data": {
            "text/plain": [
              "<Figure size 640x480 with 1 Axes>"
            ],
            "image/png": "[encoded data removed]"
          },
          "metadata": {}
        },
        {
          "output_type": "display_data",
          "data": {
            "text/plain": [
              "<Figure size 640x480 with 1 Axes>"
            ],
            "image/png": "[encoded data removed]"
          },
          "metadata": {}
        }
      ]
    }
  ]
}